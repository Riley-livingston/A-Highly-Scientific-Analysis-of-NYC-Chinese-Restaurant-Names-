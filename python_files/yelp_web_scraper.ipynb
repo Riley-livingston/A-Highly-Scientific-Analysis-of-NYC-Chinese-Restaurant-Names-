{
 "cells": [
  {
   "attachments": {},
   "cell_type": "markdown",
   "metadata": {},
   "source": [
    "# Web Scraping Bot for NYC Chinese Restaurant Data"
   ]
  },
  {
   "attachments": {},
   "cell_type": "markdown",
   "metadata": {},
   "source": [
    "Using Selenium to scrape NYC chinese restaurant data from Yelp"
   ]
  },
  {
   "cell_type": "code",
   "execution_count": 39,
   "metadata": {},
   "outputs": [],
   "source": [
    "from selenium import webdriver\n",
    "from selenium.webdriver.common.by import By\n",
    "from selenium.webdriver.common.action_chains import ActionChains\n",
    "from selenium.webdriver.support.ui import WebDriverWait\n",
    "from selenium.webdriver.support import expected_conditions as EC\n",
    "import time"
   ]
  },
  {
   "cell_type": "code",
   "execution_count": 40,
   "metadata": {},
   "outputs": [],
   "source": [
    "with open(\"restaurant_names.csv\", 'w') as file:\n",
    "    file.write(\"names\")\n"
   ]
  },
  {
   "cell_type": "code",
   "execution_count": 41,
   "metadata": {},
   "outputs": [
    {
     "name": "stderr",
     "output_type": "stream",
     "text": [
      "C:\\Users\\riley\\AppData\\Local\\Temp\\ipykernel_5892\\1562539897.py:1: DeprecationWarning: executable_path has been deprecated, please pass in a Service object\n",
      "  driver = webdriver.Chrome(\"C:\\\\Users\\\\riley\\\\OneDrive\\\\Desktop\\\\Selenium\\\\chromedriver_win32\\\\chromedriver.exe\")\n"
     ]
    }
   ],
   "source": [
    "driver = webdriver.Chrome(\"C:\\\\Users\\\\riley\\\\OneDrive\\\\Desktop\\\\Selenium\\\\chromedriver_win32\\\\chromedriver.exe\")\n",
    "\n",
    "driver.get(\"https://www.yelp.com/search?find_desc=chinese+food&find_loc=new+york+city&cflt=chinese\")\n",
    "\n",
    "driver.maximize_window()\n",
    "time.sleep(3)"
   ]
  },
  {
   "cell_type": "code",
   "execution_count": 42,
   "metadata": {},
   "outputs": [],
   "source": [
    "for k in range(23):\n",
    "    r_names = driver.find_elements(By.XPATH,'//span[@class =\" css-1egxyvc\"]/a')\n",
    "\n",
    "\n",
    "    with open(\"restaurant_names.csv\", 'a') as file:\n",
    "        for i in range(len(r_names)):\n",
    "            file.write(r_names[i].text + \"\\n\")\n",
    "    \n",
    "        next = driver.find_element(By.XPATH, '//a[@aria-label=\"Next\"]')\n",
    "        next.click()\n",
    "        time.sleep(7)\n",
    "    file.close()\n",
    "        "
   ]
  }
 ],
 "metadata": {
  "kernelspec": {
   "display_name": "base",
   "language": "python",
   "name": "python3"
  },
  "language_info": {
   "codemirror_mode": {
    "name": "ipython",
    "version": 3
   },
   "file_extension": ".py",
   "mimetype": "text/x-python",
   "name": "python",
   "nbconvert_exporter": "python",
   "pygments_lexer": "ipython3",
   "version": "3.9.13"
  },
  "orig_nbformat": 4,
  "vscode": {
   "interpreter": {
    "hash": "237446f2f4e254dcf915ea103127f4de336802b5092e34c6c136b86db310f02a"
   }
  }
 },
 "nbformat": 4,
 "nbformat_minor": 2
}
